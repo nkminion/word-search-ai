{
 "cells": [
  {
   "cell_type": "code",
   "execution_count": 233,
   "id": "fe9a0af7",
   "metadata": {},
   "outputs": [],
   "source": [
    "import cv2\n",
    "import numpy as np"
   ]
  },
  {
   "cell_type": "code",
   "execution_count": 234,
   "id": "77c60531",
   "metadata": {},
   "outputs": [],
   "source": [
    "#while True:\n",
    "    # ret, frame3 = video.read()\n",
    "\n",
    "    # frame4 = cv2.cvtColor(frame3, cv2.COLOR_BGR2GRAY)\n",
    "    # #frame = cv2.blur(frame4, (100,1))\n",
    "\n",
    "    # frame = cv2.adaptiveThreshold(frame4, 255, cv2.ADAPTIVE_THRESH_MEAN_C, cv2.THRESH_BINARY, 21, 7)\n",
    "\n",
    "    # cv2.imshow(\"vid\", frame)\n",
    "\n",
    "    # if cv2.waitKey(4) & 0xFF == ord('q'):\n",
    "    #     break\n",
    "\n",
    "# video.release()\n",
    "# cv2.destroyAllWindows()"
   ]
  },
  {
   "cell_type": "code",
   "execution_count": 235,
   "id": "51ffdc01",
   "metadata": {},
   "outputs": [],
   "source": [
    "image2 = cv2.imread(\"image_samples/word_search_summer.png\")\n",
    "image = cv2.cvtColor(image2, cv2.COLOR_BGR2GRAY)\n",
    "ret, image = cv2.threshold(image, 30, 255, cv2.THRESH_BINARY_INV)\n",
    "#image = cv2.adaptiveThreshold(image, 255, cv2.ADAPTIVE_THRESH_GAUSSIAN_C, cv2.THRESH_BINARY, 33, 45)\n",
    "\n",
    "image = cv2.blur(image, (2,2))\n",
    "\n",
    "contours, _ = cv2.findContours(image, cv2.RETR_EXTERNAL, cv2.CHAIN_APPROX_SIMPLE)\n",
    "\n",
    "for cnt in contours:\n",
    "    #cv2.drawContours(image2, cnt, -1, (255,0,0), 7 )\n",
    "    x, y, w, h = cv2.boundingRect(cnt)\n",
    "    cv2.rectangle(image2, (x - int(w*(0.45)), y - int(h*(0.45))), (x + w + int(w*(0.45)), y + h + int(h*(0.45))), (0, 255, 0), 2)"
   ]
  },
  {
   "cell_type": "code",
   "execution_count": 236,
   "id": "ec8fa30e",
   "metadata": {},
   "outputs": [],
   "source": [
    "cv2.imshow(\"hsf\", image2)\n",
    "cv2.imshow(\"hsf2\", image)\n",
    "\n",
    "cv2.waitKey(1000)\n",
    "\n",
    "cv2.destroyAllWindows()"
   ]
  }
 ],
 "metadata": {
  "kernelspec": {
   "display_name": "testenv",
   "language": "python",
   "name": "python3"
  },
  "language_info": {
   "codemirror_mode": {
    "name": "ipython",
    "version": 3
   },
   "file_extension": ".py",
   "mimetype": "text/x-python",
   "name": "python",
   "nbconvert_exporter": "python",
   "pygments_lexer": "ipython3",
   "version": "3.10.18"
  }
 },
 "nbformat": 4,
 "nbformat_minor": 5
}
