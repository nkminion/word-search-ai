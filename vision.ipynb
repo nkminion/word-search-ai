{
 "cells": [
  {
   "cell_type": "code",
   "execution_count": 123,
   "id": "fe9a0af7",
   "metadata": {},
   "outputs": [],
   "source": [
    "import cv2"
   ]
  },
  {
   "cell_type": "code",
   "execution_count": 124,
   "id": "77c60531",
   "metadata": {},
   "outputs": [],
   "source": [
    "video = cv2.VideoCapture(0)\n",
    "\n",
    "while True:\n",
    "    ret, frame3 = video.read()\n",
    "\n",
    "    frame4 = cv2.cvtColor(frame3, cv2.COLOR_BGR2GRAY)\n",
    "    #frame = cv2.blur(frame4, (100,1))\n",
    "\n",
    "    frame = cv2.adaptiveThreshold(frame4, 255, cv2.ADAPTIVE_THRESH_MEAN_C, cv2.THRESH_BINARY, 21, 7)\n",
    "\n",
    "    cv2.imshow(\"vid\", frame)\n",
    "\n",
    "    if cv2.waitKey(4) & 0xFF == ord('q'):\n",
    "        break\n",
    "\n",
    "video.release()\n",
    "cv2.destroyAllWindows()"
   ]
  }
 ],
 "metadata": {
  "kernelspec": {
   "display_name": "testenv",
   "language": "python",
   "name": "python3"
  },
  "language_info": {
   "codemirror_mode": {
    "name": "ipython",
    "version": 3
   },
   "file_extension": ".py",
   "mimetype": "text/x-python",
   "name": "python",
   "nbconvert_exporter": "python",
   "pygments_lexer": "ipython3",
   "version": "3.10.18"
  }
 },
 "nbformat": 4,
 "nbformat_minor": 5
}
