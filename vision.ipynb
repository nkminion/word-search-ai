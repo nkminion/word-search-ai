{
 "cells": [
  {
   "cell_type": "code",
   "execution_count": 16,
   "id": "fe9a0af7",
   "metadata": {},
   "outputs": [],
   "source": [
    "import cv2\n",
    "import numpy as np\n",
    "import tensorflow as tf\n",
    "from PIL import Image"
   ]
  },
  {
   "cell_type": "code",
   "execution_count": 10,
   "id": "77c60531",
   "metadata": {},
   "outputs": [],
   "source": [
    "#while True:\n",
    "    # ret, frame3 = video.read()\n",
    "\n",
    "    # frame4 = cv2.cvtColor(frame3, cv2.COLOR_BGR2GRAY)\n",
    "    # #frame = cv2.blur(frame4, (100,1))\n",
    "\n",
    "    # frame = cv2.adaptiveThreshold(frame4, 255, cv2.ADAPTIVE_THRESH_MEAN_C, cv2.THRESH_BINARY, 21, 7)\n",
    "\n",
    "    # cv2.imshow(\"vid\", frame)\n",
    "\n",
    "    # if cv2.waitKey(4) & 0xFF == ord('q'):\n",
    "    #     break\n",
    "\n",
    "# video.release()\n",
    "# cv2.destroyAllWindows()"
   ]
  },
  {
   "cell_type": "code",
   "execution_count": 17,
   "id": "51ffdc01",
   "metadata": {},
   "outputs": [],
   "source": [
    "image2 = cv2.imread(\"image_samples/word_search_snacks.png\")\n",
    "image = cv2.cvtColor(image2, cv2.COLOR_BGR2GRAY)\n",
    "#ret, image = cv2.threshold(image, 100, 255, cv2.THRESH_BINARY_INV)\n",
    "image = cv2.adaptiveThreshold(image, 255, cv2.ADAPTIVE_THRESH_GAUSSIAN_C, cv2.THRESH_BINARY_INV, 33, 25)\n",
    "\n",
    "image = cv2.blur(image, (2,2))\n",
    "\n",
    "contours, _ = cv2.findContours(image, cv2.RETR_EXTERNAL, cv2.CHAIN_APPROX_SIMPLE)\n",
    "\n",
    "area = 0\n",
    "\n",
    "for cnt in contours:\n",
    "    area += cv2.contourArea(cnt)\n",
    "\n",
    "area = area/len(contours)\n",
    "\n",
    "letter_grid_coordinates = dict()\n",
    "y_top, y_bottom = -1,-1\n",
    "\n",
    "for i in range(len(contours)):\n",
    "    #cv2.drawContours(image2, cnt, -1, (255,0,0), 7 )\n",
    "    if cv2.contourArea(contours[i]) < 0.1*area:\n",
    "        continue\n",
    "    x, y, w, h = cv2.boundingRect(contours[i])\n",
    "    #cv2.rectangle(image2, (x - int(w*(0.45)), y - int(h*(0.45))), (x + w + int(w*(0.45)), y + h + int(h*(0.45))), (0, 255, 0), 2)\n",
    "\n",
    "    pushed = False\n",
    "\n",
    "    for key in letter_grid_coordinates.keys():\n",
    "        if y + w//2 in range(key[0], key[1]):\n",
    "            y_top, y_bottom = y, y+h\n",
    "            letter_grid_coordinates[key].append((x - int((w)*(0.25)), y - int(h*(0.25)), x + w + int(w*(0.25)), y + h + int(h*(0.25))))\n",
    "            pushed = True\n",
    "\n",
    "    if not pushed:\n",
    "        letter_grid_coordinates[(y, y+w)] = [(x - int(w*(0.25)), y - int(h*(0.25)), x + w + int(w*(0.25)), y + h + int(h*(0.25)))]\n",
    "    \n",
    "    #cv2.rectangle(image2, (x - int(w*(0.45)), y - int(h*(0.45))), (x + w + int(w*(0.45)), y + h + int(h*(0.45))), (0, 255, 0), 2)\n",
    "    "
   ]
  },
  {
   "cell_type": "code",
   "execution_count": 18,
   "id": "32166573",
   "metadata": {},
   "outputs": [],
   "source": [
    "# video = cv2.VideoCapture(0)\n",
    "\n",
    "# while True:\n",
    "#     r, image2 = video.read()\n",
    "#     image = cv2.cvtColor(image2, cv2.COLOR_BGR2GRAY)\n",
    "#     #ret, image = cv2.threshold(image, 100, 255, cv2.THRESH_BINARY_INV)\n",
    "#     image = cv2.adaptiveThreshold(image, 255, cv2.ADAPTIVE_THRESH_GAUSSIAN_C, cv2.THRESH_BINARY_INV, 33, 25)\n",
    "\n",
    "#     image = cv2.blur(image, (2,2))\n",
    "\n",
    "#     contours, _ = cv2.findContours(image, cv2.RETR_EXTERNAL, cv2.CHAIN_APPROX_SIMPLE)\n",
    "\n",
    "#     area = 0\n",
    "\n",
    "#     for cnt in contours:\n",
    "#         area += cv2.contourArea(cnt)\n",
    "\n",
    "#     area = area/len(contours)\n",
    "\n",
    "#     for i in range(len(contours)):\n",
    "#         #cv2.drawContours(image2, cnt, -1, (255,0,0), 7 )\n",
    "#         if cv2.contourArea(contours[i]) < 0.1*area:\n",
    "#             continue\n",
    "#         x, y, w, h = cv2.boundingRect(contours[i])\n",
    "#         cv2.rectangle(image2, (x - int(w*(0.45)), y - int(h*(0.45))), (x + w + int(w*(0.45)), y + h + int(h*(0.45))), (0, 255, 0), 2)\n",
    "\n",
    "#     cv2.imshow(\"hsf\", image2)\n",
    "#     cv2.imshow(\"hsf2\", image)\n",
    "\n",
    "#     cv2.waitKey(80)"
   ]
  },
  {
   "cell_type": "code",
   "execution_count": 24,
   "id": "2076fd13",
   "metadata": {},
   "outputs": [],
   "source": [
    "model = tf.keras.models.load_model(\"font_identifier.keras\")"
   ]
  },
  {
   "cell_type": "code",
   "execution_count": null,
   "id": "ec8fa30e",
   "metadata": {},
   "outputs": [
    {
     "ename": "error",
     "evalue": "OpenCV(4.12.0) /Users/xperience/GHA-Actions-OpenCV/_work/opencv-python/opencv-python/opencv/modules/core/src/matrix_c.cpp:190: error: (-5:Bad argument) Unknown array type in function 'cvarrToMat'\n",
     "output_type": "error",
     "traceback": [
      "\u001b[0;31m---------------------------------------------------------------------------\u001b[0m",
      "\u001b[0;31merror\u001b[0m                                     Traceback (most recent call last)",
      "Cell \u001b[0;32mIn[38], line 25\u001b[0m\n\u001b[1;32m     22\u001b[0m pillow_image\u001b[38;5;241m.\u001b[39mpaste(img, ((\u001b[38;5;241m28\u001b[39m \u001b[38;5;241m-\u001b[39m img\u001b[38;5;241m.\u001b[39msize[\u001b[38;5;241m0\u001b[39m]) \u001b[38;5;241m/\u001b[39m\u001b[38;5;241m/\u001b[39m \u001b[38;5;241m2\u001b[39m, (\u001b[38;5;241m28\u001b[39m \u001b[38;5;241m-\u001b[39m img\u001b[38;5;241m.\u001b[39msize[\u001b[38;5;241m1\u001b[39m]) \u001b[38;5;241m/\u001b[39m\u001b[38;5;241m/\u001b[39m \u001b[38;5;241m2\u001b[39m))\n\u001b[1;32m     24\u001b[0m img \u001b[38;5;241m=\u001b[39m np\u001b[38;5;241m.\u001b[39marray(pillow_image)\u001b[38;5;241m.\u001b[39mreshape((\u001b[38;5;241m1\u001b[39m,\u001b[38;5;241m28\u001b[39m,\u001b[38;5;241m28\u001b[39m,\u001b[38;5;241m1\u001b[39m))\n\u001b[0;32m---> 25\u001b[0m \u001b[43mcv2\u001b[49m\u001b[38;5;241;43m.\u001b[39;49m\u001b[43mimshow\u001b[49m\u001b[43m(\u001b[49m\u001b[38;5;28;43mstr\u001b[39;49m\u001b[43m(\u001b[49m\u001b[43mx1\u001b[49m\u001b[43m)\u001b[49m\u001b[43m,\u001b[49m\u001b[43m \u001b[49m\u001b[43mimg\u001b[49m\u001b[43m)\u001b[49m\n\u001b[1;32m     26\u001b[0m cv2\u001b[38;5;241m.\u001b[39mwaitKey(\u001b[38;5;241m100\u001b[39m)\n\u001b[1;32m     27\u001b[0m img \u001b[38;5;241m=\u001b[39m img\u001b[38;5;241m/\u001b[39m\u001b[38;5;241m255.0\u001b[39m\n",
      "\u001b[0;31merror\u001b[0m: OpenCV(4.12.0) /Users/xperience/GHA-Actions-OpenCV/_work/opencv-python/opencv-python/opencv/modules/core/src/matrix_c.cpp:190: error: (-5:Bad argument) Unknown array type in function 'cvarrToMat'\n"
     ]
    }
   ],
   "source": [
    "cv2.imshow(\"hsf\", image2)\n",
    "cv2.imshow(\"hsf2\", image)\n",
    "cv2.waitKey(1000)\n",
    "cv2.destroyAllWindows()\n",
    "\n",
    "crossword = list()\n",
    "\n",
    "for i in letter_grid_coordinates.keys():\n",
    "    letter_grid_coordinates[i] = sorted(letter_grid_coordinates[i], key=lambda x: x[0])\n",
    "    #print(letter_grid_coordinates[i])\n",
    "\n",
    "for i in reversed(letter_grid_coordinates.values()):\n",
    "    x = list()\n",
    "    for j in i:\n",
    "        x1, y1, x2, y2 = j\n",
    "        img = image[y1:y2, x1:x2]\n",
    "        img = Image.fromarray(img)\n",
    "        img.thumbnail((28, 28), Image.Resampling.LANCZOS)\n",
    "\n",
    "        pillow_image = Image.new(\"L\", (28, 28), 0)\n",
    "        pillow_image.paste(img, ((28 - img.size[0]) // 2, (28 - img.size[1]) // 2))\n",
    "\n",
    "        img = np.array(pillow_image).reshape((1,28,28,1))\n",
    "        img = img/255.0\n",
    "        prediction = model.predict(img)\n",
    "        x.append(chr(np.argmax(prediction) + 65))\n",
    "\n",
    "\n",
    "\n",
    "    crossword.append(x)\n",
    "\n",
    "# j = list(letter_grid_coordinates.values())[8][17]\n",
    "\n",
    "# x1, y1, x2, y2 = j\n",
    "# img = image[y1:y2, x1:x2]\n",
    "# img = cv2.resize(img, (28, 28))\n",
    "# cv2.imshow(str(x1), img)\n",
    "# img = img.reshape((-1,28,28,1))\n",
    "# img = img/255.0\n",
    "# prediction = model.predict(img)\n",
    "# print(chr(np.argmax(prediction) + 65))\n",
    "\n",
    "# for i in letter_grid_coordinates.keys():\n",
    "#     print(len(letter_grid_coordinates[i]) , \"elements in\", i)\n"
   ]
  },
  {
   "cell_type": "code",
   "execution_count": 32,
   "id": "e45fb7ae",
   "metadata": {},
   "outputs": [
    {
     "name": "stdout",
     "output_type": "stream",
     "text": [
      "Z W N R O C P O P G A I S W L U W X K L Y X Q Y\n",
      "F N X S S L H Z R M J E W I S O T I R O D P C B\n",
      "N J D P Z U B O X I L J M U Q C M E E G N A R O\n",
      "T S E I K O O C Q G H G L C W Z S R E K C A R C\n",
      "P I Q H Q L I T N V P O P A D O S M R C K W U C\n",
      "S N Z C K H I I M G U M M Y B E A R S H O O X F\n",
      "E N C O N R R S A H T J F R E N C H F R I E S\n",
      "I I\n",
      "D M R T Q P P L E P J W G E L L M L Z J C N I S\n",
      "A K W A I I I G R P Y M S F I O Y T Y V K U G P\n",
      "C V A T P U Q A C Q A A A C W N M I N J K O I T\n",
      "K T S O E I X A E H T R O W P Y Y D N A C Z K Z\n",
      "F R Y P A X K X C A X R G Q K E V C W S Z A N B\n",
      "U Z N E N P I H I G I O C Y H T I R W A U L D S\n",
      "J S F X U K R D Y C U F X E K K T E R P L M X B\n",
      "V L B J T Q N E E D K K S J G P F O D V Y O E K\n",
      "D E C Q S Y S E M X L K N B A O L R T O B N S J\n",
      "G Z D K S N S S P H P K I S Y L D C J F E D C R\n",
      "F T V W A T E R M E L O N E S Y E M U C E S B G\n",
      "I E I A J K M N O U G X I L N L I U A R T A K M\n",
      "R R Z Z P I Q X A W J A J K M H S O T E E H C Q\n",
      "L P R P V P X O M C O G N C R Z B V Z Z M G U Z\n",
      "U Z U W Q G L R B S H J M I S I E I C M O D X E\n",
      "A Y K E T Y H E R C P O F P H G P U S A I G N U\n",
      "D T G F R U I T S C H N S I J H L Z J X T E W M\n"
     ]
    }
   ],
   "source": [
    "for i in crossword:\n",
    "    print(' '.join(i))"
   ]
  }
 ],
 "metadata": {
  "kernelspec": {
   "display_name": "testenv",
   "language": "python",
   "name": "python3"
  },
  "language_info": {
   "codemirror_mode": {
    "name": "ipython",
    "version": 3
   },
   "file_extension": ".py",
   "mimetype": "text/x-python",
   "name": "python",
   "nbconvert_exporter": "python",
   "pygments_lexer": "ipython3",
   "version": "3.10.18"
  }
 },
 "nbformat": 4,
 "nbformat_minor": 5
}
