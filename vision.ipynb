{
 "cells": [
  {
   "cell_type": "code",
   "execution_count": 41,
   "id": "fe9a0af7",
   "metadata": {},
   "outputs": [],
   "source": [
    "import cv2\n",
    "import numpy as np"
   ]
  },
  {
   "cell_type": "code",
   "execution_count": 42,
   "id": "77c60531",
   "metadata": {},
   "outputs": [],
   "source": [
    "#while True:\n",
    "    # ret, frame3 = video.read()\n",
    "\n",
    "    # frame4 = cv2.cvtColor(frame3, cv2.COLOR_BGR2GRAY)\n",
    "    # #frame = cv2.blur(frame4, (100,1))\n",
    "\n",
    "    # frame = cv2.adaptiveThreshold(frame4, 255, cv2.ADAPTIVE_THRESH_MEAN_C, cv2.THRESH_BINARY, 21, 7)\n",
    "\n",
    "    # cv2.imshow(\"vid\", frame)\n",
    "\n",
    "    # if cv2.waitKey(4) & 0xFF == ord('q'):\n",
    "    #     break\n",
    "\n",
    "# video.release()\n",
    "# cv2.destroyAllWindows()"
   ]
  },
  {
   "cell_type": "code",
   "execution_count": 43,
   "id": "51ffdc01",
   "metadata": {},
   "outputs": [],
   "source": [
    "image2 = cv2.imread(\"image_samples/word_search_summer.png\")\n",
    "image = cv2.cvtColor(image2, cv2.COLOR_BGR2GRAY)\n",
    "#ret, image = cv2.threshold(image, 100, 255, cv2.THRESH_BINARY_INV)\n",
    "image = cv2.adaptiveThreshold(image, 255, cv2.ADAPTIVE_THRESH_GAUSSIAN_C, cv2.THRESH_BINARY_INV, 33, 25)\n",
    "\n",
    "image = cv2.blur(image, (2,2))\n",
    "\n",
    "contours, _ = cv2.findContours(image, cv2.RETR_EXTERNAL, cv2.CHAIN_APPROX_SIMPLE)\n",
    "\n",
    "area = 0\n",
    "\n",
    "for cnt in contours:\n",
    "    area += cv2.contourArea(cnt)\n",
    "\n",
    "area = area/len(contours)\n",
    "\n",
    "letter_grid_coordinates = dict()\n",
    "y_top, y_bottom = -1,-1\n",
    "\n",
    "for i in range(len(contours)):\n",
    "    #cv2.drawContours(image2, cnt, -1, (255,0,0), 7 )\n",
    "    if cv2.contourArea(contours[i]) < 0.1*area:\n",
    "        continue\n",
    "    x, y, w, h = cv2.boundingRect(contours[i])\n",
    "    #cv2.rectangle(image2, (x - int(w*(0.45)), y - int(h*(0.45))), (x + w + int(w*(0.45)), y + h + int(h*(0.45))), (0, 255, 0), 2)\n",
    "\n",
    "    pushed = False\n",
    "\n",
    "    for key in letter_grid_coordinates.keys():\n",
    "        if y + w//2 in range(key[0], key[1]):\n",
    "            y_top, y_bottom = y, y+h\n",
    "            letter_grid_coordinates[key].append((x - int(w*(0.45)), y - int(h*(0.45)), x + w + int(w*(0.45)), y + h + int(h*(0.45))))\n",
    "            pushed = True\n",
    "\n",
    "    if not pushed:\n",
    "        letter_grid_coordinates[(y, y+w)] = [(x - int(w*(0.45)), y - int(h*(0.45)), x + w + int(w*(0.45)), y + h + int(h*(0.45)))]\n",
    "        cv2.rectangle(image2, (x - int(w*(0.45)), y - int(h*(0.45))), (x + w + int(w*(0.45)), y + h + int(h*(0.45))), (0, 255, 0), 2)\n",
    "    "
   ]
  },
  {
   "cell_type": "code",
   "execution_count": 44,
   "id": "32166573",
   "metadata": {},
   "outputs": [],
   "source": [
    "# video = cv2.VideoCapture(0)\n",
    "\n",
    "# while True:\n",
    "#     r, image2 = video.read()\n",
    "#     image = cv2.cvtColor(image2, cv2.COLOR_BGR2GRAY)\n",
    "#     #ret, image = cv2.threshold(image, 100, 255, cv2.THRESH_BINARY_INV)\n",
    "#     image = cv2.adaptiveThreshold(image, 255, cv2.ADAPTIVE_THRESH_GAUSSIAN_C, cv2.THRESH_BINARY_INV, 33, 25)\n",
    "\n",
    "#     image = cv2.blur(image, (2,2))\n",
    "\n",
    "#     contours, _ = cv2.findContours(image, cv2.RETR_EXTERNAL, cv2.CHAIN_APPROX_SIMPLE)\n",
    "\n",
    "#     area = 0\n",
    "\n",
    "#     for cnt in contours:\n",
    "#         area += cv2.contourArea(cnt)\n",
    "\n",
    "#     area = area/len(contours)\n",
    "\n",
    "#     for i in range(len(contours)):\n",
    "#         #cv2.drawContours(image2, cnt, -1, (255,0,0), 7 )\n",
    "#         if cv2.contourArea(contours[i]) < 0.1*area:\n",
    "#             continue\n",
    "#         x, y, w, h = cv2.boundingRect(contours[i])\n",
    "#         cv2.rectangle(image2, (x - int(w*(0.45)), y - int(h*(0.45))), (x + w + int(w*(0.45)), y + h + int(h*(0.45))), (0, 255, 0), 2)\n",
    "\n",
    "#     cv2.imshow(\"hsf\", image2)\n",
    "#     cv2.imshow(\"hsf2\", image)\n",
    "\n",
    "#     cv2.waitKey(80)"
   ]
  },
  {
   "cell_type": "code",
   "execution_count": null,
   "id": "ec8fa30e",
   "metadata": {},
   "outputs": [
    {
     "name": "stdout",
     "output_type": "stream",
     "text": [
      "15 elements in (1191, 1221)\n",
      "15 elements in (1123, 1149)\n",
      "15 elements in (1054, 1077)\n",
      "15 elements in (986, 1009)\n",
      "15 elements in (917, 943)\n",
      "15 elements in (850, 875)\n",
      "15 elements in (781, 808)\n",
      "15 elements in (713, 744)\n",
      "15 elements in (645, 676)\n",
      "15 elements in (576, 602)\n",
      "15 elements in (508, 534)\n",
      "15 elements in (440, 465)\n",
      "15 elements in (372, 398)\n",
      "15 elements in (303, 330)\n",
      "15 elements in (235, 258)\n",
      "15 elements in (167, 194)\n",
      "15 elements in (98, 125)\n",
      "15 elements in (30, 53)\n"
     ]
    }
   ],
   "source": [
    "cv2.imshow(\"hsf\", image2)\n",
    "cv2.imshow(\"hsf2\", image)\n",
    "\n",
    "cv2.waitKey(1000)\n",
    "\n",
    "cv2.destroyAllWindows()\n",
    "\n",
    "for i in letter_grid_coordinates.keys():\n",
    "    print(len(letter_grid_coordinates[i]) , \"elements in\", i)\n"
   ]
  },
  {
   "cell_type": "code",
   "execution_count": null,
   "id": "1f85a773",
   "metadata": {},
   "outputs": [],
   "source": []
  }
 ],
 "metadata": {
  "kernelspec": {
   "display_name": "testenv",
   "language": "python",
   "name": "python3"
  },
  "language_info": {
   "codemirror_mode": {
    "name": "ipython",
    "version": 3
   },
   "file_extension": ".py",
   "mimetype": "text/x-python",
   "name": "python",
   "nbconvert_exporter": "python",
   "pygments_lexer": "ipython3",
   "version": "3.10.18"
  }
 },
 "nbformat": 4,
 "nbformat_minor": 5
}
