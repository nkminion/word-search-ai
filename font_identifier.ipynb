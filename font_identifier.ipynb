{
 "cells": [
  {
   "cell_type": "code",
   "execution_count": 49,
   "id": "68d31468",
   "metadata": {},
   "outputs": [],
   "source": [
    "import tensorflow as tf\n",
    "from tensorflow.keras import layers, models, regularizers\n",
    "from scipy import io\n",
    "from tensorflow.keras.callbacks import ModelCheckpoint\n",
    "import numpy as np\n",
    "import cv2\n",
    "import os"
   ]
  },
  {
   "cell_type": "code",
   "execution_count": 50,
   "id": "9baaa94e",
   "metadata": {},
   "outputs": [],
   "source": [
    "train_images = list()\n",
    "train_labels = None\n",
    "\n",
    "test_images = list()\n",
    "test_labels = None\n",
    "\n",
    "image_files_path = \"datasets/font_images/\"\n",
    "image_files = os.listdir(image_files_path)\n",
    "\n",
    "image_count = len(image_files)\n",
    "train_count = image_count*95//100\n",
    "\n",
    "for i in range(train_count):\n",
    "    file = image_files[i]\n",
    "    train_images.append(cv2.imread(image_files_path + file, cv2.IMREAD_GRAYSCALE))\n",
    "\n",
    "for i in range(train_count, image_count):\n",
    "    file = image_files[i]\n",
    "    test_images.append(cv2.imread(image_files_path + file, cv2.IMREAD_GRAYSCALE))\n",
    "\n",
    "with open(\"datasets/font_labels.txt\", \"r\") as f:\n",
    "    lines = f.read().splitlines()\n",
    "\n",
    "lines_int = list()\n",
    "\n",
    "for i in lines:\n",
    "    lines_int.append(ord(i) - 65)\n",
    "\n",
    "\n",
    "train_labels = np.array(lines_int[:train_count])\n",
    "test_labels  = np.array(lines_int[train_count:])\n",
    "\n",
    "train_images = np.array(train_images)\n",
    "test_images = np.array(test_images)"
   ]
  },
  {
   "cell_type": "code",
   "execution_count": 51,
   "id": "45531bb0",
   "metadata": {},
   "outputs": [
    {
     "name": "stdout",
     "output_type": "stream",
     "text": [
      "(3408, 28, 28) (180, 28, 28) (3408,) (180,)\n"
     ]
    }
   ],
   "source": [
    "print(train_images.shape, test_images.shape, train_labels.shape, test_labels.shape)"
   ]
  },
  {
   "cell_type": "code",
   "execution_count": null,
   "id": "eb0874f2",
   "metadata": {},
   "outputs": [],
   "source": [
    "model = models.Sequential([\n",
    "    layers.Conv2D(32, (3,3), padding=\"same\", use_bias=\"false\", input_shape=(28,28,1)),\n",
    "    layers.BatchNormalization(),\n",
    "    layers.ReLU(),\n",
    "    layers.Conv2D(32, (3,3), padding=\"same\", use_bias=\"false\"),\n",
    "    layers.BatchNormalization(),\n",
    "    layers.ReLU(),\n",
    "    layers.Conv2D(32, (3,3), padding=\"same\", use_bias=\"false\"),\n",
    "    layers.BatchNormalization(),\n",
    "    layers.ReLU(),\n",
    "    layers.MaxPooling2D((2,2)),\n",
    "    \n",
    "    layers.Conv2D(64, (3,3), padding=\"same\", use_bias=\"false\"),\n",
    "    layers.BatchNormalization(),\n",
    "    layers.ReLU(),\n",
    "    layers.Conv2D(64, (3,3), padding=\"same\", use_bias=\"false\"),\n",
    "    layers.BatchNormalization(),\n",
    "    layers.ReLU(),\n",
    "    layers.Conv2D(64, (3,3), padding=\"same\", use_bias=\"false\"),\n",
    "    layers.BatchNormalization(),\n",
    "    layers.ReLU(),\n",
    "    layers.MaxPooling2D((2,2)),\n",
    "\n",
    "    layers.Flatten(),\n",
    "    layers.Dense(64, activation=\"relu\"),\n",
    "    layers.Dropout(0.35),\n",
    "    layers.Dense(26, activation=\"softmax\")\n",
    "])\n",
    "\n",
    "model.compile(optimizer=\"adam\", loss='sparse_categorical_crossentropy', metrics=['accuracy'])"
   ]
  },
  {
   "cell_type": "code",
   "execution_count": 56,
   "id": "9abddc3b",
   "metadata": {},
   "outputs": [
    {
     "name": "stdout",
     "output_type": "stream",
     "text": [
      "Epoch 1/15\n",
      "\u001b[1m682/682\u001b[0m \u001b[32m━━━━━━━━━━━━━━━━━━━━\u001b[0m\u001b[37m\u001b[0m \u001b[1m5s\u001b[0m 5ms/step - accuracy: 0.0346 - loss: 3.2613 - val_accuracy: 0.0333 - val_loss: 3.2581\n",
      "Epoch 2/15\n",
      "\u001b[1m682/682\u001b[0m \u001b[32m━━━━━━━━━━━━━━━━━━━━\u001b[0m\u001b[37m\u001b[0m \u001b[1m4s\u001b[0m 6ms/step - accuracy: 0.0311 - loss: 3.2591 - val_accuracy: 0.0389 - val_loss: 3.2582\n",
      "Epoch 3/15\n",
      "\u001b[1m682/682\u001b[0m \u001b[32m━━━━━━━━━━━━━━━━━━━━\u001b[0m\u001b[37m\u001b[0m \u001b[1m4s\u001b[0m 6ms/step - accuracy: 0.0340 - loss: 3.2591 - val_accuracy: 0.0333 - val_loss: 3.2581\n",
      "Epoch 4/15\n",
      "\u001b[1m682/682\u001b[0m \u001b[32m━━━━━━━━━━━━━━━━━━━━\u001b[0m\u001b[37m\u001b[0m \u001b[1m4s\u001b[0m 6ms/step - accuracy: 0.0340 - loss: 3.2591 - val_accuracy: 0.0333 - val_loss: 3.2582\n",
      "Epoch 5/15\n",
      "\u001b[1m682/682\u001b[0m \u001b[32m━━━━━━━━━━━━━━━━━━━━\u001b[0m\u001b[37m\u001b[0m \u001b[1m4s\u001b[0m 6ms/step - accuracy: 0.0267 - loss: 3.2591 - val_accuracy: 0.0333 - val_loss: 3.2582\n",
      "Epoch 6/15\n",
      "\u001b[1m682/682\u001b[0m \u001b[32m━━━━━━━━━━━━━━━━━━━━\u001b[0m\u001b[37m\u001b[0m \u001b[1m4s\u001b[0m 6ms/step - accuracy: 0.0343 - loss: 3.2591 - val_accuracy: 0.0333 - val_loss: 3.2582\n",
      "Epoch 7/15\n",
      "\u001b[1m682/682\u001b[0m \u001b[32m━━━━━━━━━━━━━━━━━━━━\u001b[0m\u001b[37m\u001b[0m \u001b[1m4s\u001b[0m 6ms/step - accuracy: 0.0302 - loss: 3.2591 - val_accuracy: 0.0333 - val_loss: 3.2582\n",
      "Epoch 8/15\n",
      "\u001b[1m682/682\u001b[0m \u001b[32m━━━━━━━━━━━━━━━━━━━━\u001b[0m\u001b[37m\u001b[0m \u001b[1m4s\u001b[0m 6ms/step - accuracy: 0.0282 - loss: 3.2592 - val_accuracy: 0.0389 - val_loss: 3.2581\n",
      "Epoch 9/15\n",
      "\u001b[1m682/682\u001b[0m \u001b[32m━━━━━━━━━━━━━━━━━━━━\u001b[0m\u001b[37m\u001b[0m \u001b[1m4s\u001b[0m 6ms/step - accuracy: 0.0305 - loss: 3.2591 - val_accuracy: 0.0389 - val_loss: 3.2582\n",
      "Epoch 10/15\n",
      "\u001b[1m682/682\u001b[0m \u001b[32m━━━━━━━━━━━━━━━━━━━━\u001b[0m\u001b[37m\u001b[0m \u001b[1m4s\u001b[0m 6ms/step - accuracy: 0.0296 - loss: 3.2591 - val_accuracy: 0.0333 - val_loss: 3.2582\n",
      "Epoch 11/15\n",
      "\u001b[1m682/682\u001b[0m \u001b[32m━━━━━━━━━━━━━━━━━━━━\u001b[0m\u001b[37m\u001b[0m \u001b[1m4s\u001b[0m 6ms/step - accuracy: 0.0320 - loss: 3.2591 - val_accuracy: 0.0389 - val_loss: 3.2581\n",
      "Epoch 12/15\n",
      "\u001b[1m682/682\u001b[0m \u001b[32m━━━━━━━━━━━━━━━━━━━━\u001b[0m\u001b[37m\u001b[0m \u001b[1m4s\u001b[0m 6ms/step - accuracy: 0.0311 - loss: 3.2591 - val_accuracy: 0.0333 - val_loss: 3.2582\n",
      "Epoch 13/15\n",
      "\u001b[1m682/682\u001b[0m \u001b[32m━━━━━━━━━━━━━━━━━━━━\u001b[0m\u001b[37m\u001b[0m \u001b[1m4s\u001b[0m 6ms/step - accuracy: 0.0279 - loss: 3.2591 - val_accuracy: 0.0333 - val_loss: 3.2582\n",
      "Epoch 14/15\n",
      "\u001b[1m682/682\u001b[0m \u001b[32m━━━━━━━━━━━━━━━━━━━━\u001b[0m\u001b[37m\u001b[0m \u001b[1m4s\u001b[0m 6ms/step - accuracy: 0.0332 - loss: 3.2591 - val_accuracy: 0.0333 - val_loss: 3.2582\n",
      "Epoch 15/15\n",
      "\u001b[1m682/682\u001b[0m \u001b[32m━━━━━━━━━━━━━━━━━━━━\u001b[0m\u001b[37m\u001b[0m \u001b[1m4s\u001b[0m 6ms/step - accuracy: 0.0314 - loss: 3.2592 - val_accuracy: 0.0333 - val_loss: 3.2582\n"
     ]
    },
    {
     "data": {
      "text/plain": [
       "<keras.src.callbacks.history.History at 0x16c7a9690>"
      ]
     },
     "execution_count": 56,
     "metadata": {},
     "output_type": "execute_result"
    }
   ],
   "source": [
    "train_images = train_images / 255.0\n",
    "test_images = test_images / 255.0\n",
    "\n",
    "train_images = train_images.reshape(len(train_images), 28, 28, 1)\n",
    "test_images = test_images.reshape(len(test_images), 28, 28, 1)\n",
    "\n",
    "checkpoint = ModelCheckpoint(filepath=\"checkpoints/epoch_{epoch:02d}.keras\", save_weights_only=False, save_freq=\"epoch\")\n",
    "\n",
    "model.fit(train_images, train_labels, epochs=15,\n",
    "          validation_data=(test_images, test_labels), callbacks=[checkpoint], batch_size=5)\n",
    "\n",
    "# Best = 95.13% validation acc"
   ]
  },
  {
   "cell_type": "code",
   "execution_count": null,
   "id": "8cd833be",
   "metadata": {},
   "outputs": [
    {
     "name": "stdout",
     "output_type": "stream",
     "text": [
      "\u001b[1m325/325\u001b[0m \u001b[32m━━━━━━━━━━━━━━━━━━━━\u001b[0m\u001b[37m\u001b[0m \u001b[1m9s\u001b[0m 27ms/step - accuracy: 0.9513 - loss: 0.1702\n",
      "Accuracy:  95.12500166893005  Loss:  0.17023393511772156\n"
     ]
    }
   ],
   "source": [
    "train_images = train_images / 255.0\n",
    "test_images = test_images / 255.0\n",
    "\n",
    "train_labels = train_labels - 1\n",
    "test_labels = test_labels - 1\n",
    "\n",
    "train_images = train_images.reshape(len(train_images), 28, 28, 1)\n",
    "test_images = test_images.reshape(len(test_images), 28, 28, 1)\n",
    "\n",
    "model = tf.keras.models.load_model(\"alpha_identifier.keras\")\n",
    "loss, acc = model.evaluate(test_images, test_labels, batch_size=64)\n",
    "print(\"Accuracy: \", acc*100, \" Loss: \", loss)"
   ]
  },
  {
   "cell_type": "code",
   "execution_count": null,
   "id": "b59fb4e3",
   "metadata": {},
   "outputs": [
    {
     "name": "stdout",
     "output_type": "stream",
     "text": [
      "\u001b[1m1/1\u001b[0m \u001b[32m━━━━━━━━━━━━━━━━━━━━\u001b[0m\u001b[37m\u001b[0m \u001b[1m0s\u001b[0m 16ms/step\n",
      "0 [0]\n"
     ]
    }
   ],
   "source": [
    "img = test_images[143]\n",
    "cv2.imshow(\"hdb\", img)\n",
    "cv2.waitKey(1000)\n",
    "img = img.reshape((-1,28,28,1))\n",
    "prediction = model.predict(img)\n",
    "print(np.argmax(prediction), test_labels[143])"
   ]
  }
 ],
 "metadata": {
  "kernelspec": {
   "display_name": "testenv",
   "language": "python",
   "name": "python3"
  },
  "language_info": {
   "codemirror_mode": {
    "name": "ipython",
    "version": 3
   },
   "file_extension": ".py",
   "mimetype": "text/x-python",
   "name": "python",
   "nbconvert_exporter": "python",
   "pygments_lexer": "ipython3",
   "version": "3.10.18"
  }
 },
 "nbformat": 4,
 "nbformat_minor": 5
}
