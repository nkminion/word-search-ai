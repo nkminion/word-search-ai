{
 "cells": [
  {
   "cell_type": "code",
   "execution_count": 34,
   "id": "41cbfac7",
   "metadata": {},
   "outputs": [],
   "source": [
    "import tensorflow as tf\n",
    "from tensorflow.keras import layers, models, regularizers\n",
    "from scipy import io\n",
    "from tensorflow.keras.callbacks import ModelCheckpoint"
   ]
  },
  {
   "cell_type": "code",
   "execution_count": 35,
   "id": "c3a93d18",
   "metadata": {},
   "outputs": [],
   "source": [
    "dataset = io.loadmat('datasets/emnist-letters.mat')\n",
    "# matlab_structs / numpy structured arrays. yay\n",
    "# they have a dtype (structure) and every element adheres to it :)"
   ]
  },
  {
   "cell_type": "code",
   "execution_count": 36,
   "id": "f73fa2a0",
   "metadata": {},
   "outputs": [
    {
     "name": "stdout",
     "output_type": "stream",
     "text": [
      "(124800, 784) (20800, 784) (124800, 1) (20800, 1)\n"
     ]
    }
   ],
   "source": [
    "struct_dataset = dataset['dataset'][0,0]\n",
    "\n",
    "train_images, train_labels = struct_dataset['train'][0,0]['images'], struct_dataset['train'][0,0]['labels']\n",
    "test_images, test_labels = struct_dataset['test'][0,0]['images'], struct_dataset['test'][0,0]['labels']\n",
    "\n",
    "print(train_images.shape, test_images.shape, train_labels.shape, test_labels.shape)"
   ]
  },
  {
   "cell_type": "code",
   "execution_count": null,
   "id": "4dedc0c6",
   "metadata": {},
   "outputs": [],
   "source": [
    "model = models.Sequential([\n",
    "    layers.Conv2D(32, (3,3), padding=\"same\", use_bias=\"false\", input_shape=(28,28,1)),\n",
    "    layers.BatchNormalization(),\n",
    "    layers.ReLU(),\n",
    "    layers.Conv2D(32, (3,3), padding=\"same\", use_bias=\"false\"),\n",
    "    layers.BatchNormalization(),\n",
    "    layers.ReLU(),\n",
    "    layers.Conv2D(32, (3,3), padding=\"same\", use_bias=\"false\"),\n",
    "    layers.BatchNormalization(),\n",
    "    layers.ReLU(),\n",
    "    layers.MaxPooling2D((2,2)),\n",
    "    \n",
    "    layers.Conv2D(64, (3,3), padding=\"same\", use_bias=\"false\"),\n",
    "    layers.BatchNormalization(),\n",
    "    layers.ReLU(),\n",
    "    layers.Conv2D(64, (3,3), padding=\"same\", use_bias=\"false\"),\n",
    "    layers.BatchNormalization(),\n",
    "    layers.ReLU(),\n",
    "    layers.Conv2D(64, (3,3), padding=\"same\", use_bias=\"false\"),\n",
    "    layers.BatchNormalization(),\n",
    "    layers.ReLU(),\n",
    "    layers.MaxPooling2D((2,2)),\n",
    "\n",
    "    layers.Flatten(),\n",
    "    layers.Dense(64, activation=\"relu\"),\n",
    "    layers.Dropout(0.35),\n",
    "    layers.Dense(26, activation=\"softmax\")\n",
    "])\n",
    "\n",
    "model.compile(optimizer=\"adam\", loss='sparse_categorical_crossentropy', metrics=['accuracy'])"
   ]
  },
  {
   "cell_type": "code",
   "execution_count": 38,
   "id": "b9704f23",
   "metadata": {},
   "outputs": [
    {
     "name": "stdout",
     "output_type": "stream",
     "text": [
      "Epoch 1/15\n",
      "\u001b[1m1950/1950\u001b[0m \u001b[32m━━━━━━━━━━━━━━━━━━━━\u001b[0m\u001b[37m\u001b[0m \u001b[1m149s\u001b[0m 76ms/step - accuracy: 0.5007 - loss: 1.4704 - val_accuracy: 0.8557 - val_loss: 0.4942\n",
      "Epoch 2/15\n",
      "\u001b[1m1950/1950\u001b[0m \u001b[32m━━━━━━━━━━━━━━━━━━━━\u001b[0m\u001b[37m\u001b[0m \u001b[1m152s\u001b[0m 78ms/step - accuracy: 0.6361 - loss: 1.0253 - val_accuracy: 0.8948 - val_loss: 0.3719\n",
      "Epoch 3/15\n",
      "\u001b[1m1950/1950\u001b[0m \u001b[32m━━━━━━━━━━━━━━━━━━━━\u001b[0m\u001b[37m\u001b[0m \u001b[1m162s\u001b[0m 83ms/step - accuracy: 0.6821 - loss: 0.8915 - val_accuracy: 0.9118 - val_loss: 0.3044\n",
      "Epoch 4/15\n",
      "\u001b[1m1950/1950\u001b[0m \u001b[32m━━━━━━━━━━━━━━━━━━━━\u001b[0m\u001b[37m\u001b[0m \u001b[1m165s\u001b[0m 85ms/step - accuracy: 0.7389 - loss: 0.7423 - val_accuracy: 0.9247 - val_loss: 0.2631\n",
      "Epoch 5/15\n",
      "\u001b[1m1950/1950\u001b[0m \u001b[32m━━━━━━━━━━━━━━━━━━━━\u001b[0m\u001b[37m\u001b[0m \u001b[1m168s\u001b[0m 86ms/step - accuracy: 0.7635 - loss: 0.6761 - val_accuracy: 0.9303 - val_loss: 0.2334\n",
      "Epoch 6/15\n",
      "\u001b[1m1950/1950\u001b[0m \u001b[32m━━━━━━━━━━━━━━━━━━━━\u001b[0m\u001b[37m\u001b[0m \u001b[1m168s\u001b[0m 86ms/step - accuracy: 0.8026 - loss: 0.5771 - val_accuracy: 0.9323 - val_loss: 0.2315\n",
      "Epoch 7/15\n",
      "\u001b[1m1950/1950\u001b[0m \u001b[32m━━━━━━━━━━━━━━━━━━━━\u001b[0m\u001b[37m\u001b[0m \u001b[1m166s\u001b[0m 85ms/step - accuracy: 0.8406 - loss: 0.4737 - val_accuracy: 0.9374 - val_loss: 0.2136\n",
      "Epoch 8/15\n",
      "\u001b[1m1950/1950\u001b[0m \u001b[32m━━━━━━━━━━━━━━━━━━━━\u001b[0m\u001b[37m\u001b[0m \u001b[1m160s\u001b[0m 82ms/step - accuracy: 0.8744 - loss: 0.3794 - val_accuracy: 0.9375 - val_loss: 0.1971\n",
      "Epoch 9/15\n",
      "\u001b[1m1950/1950\u001b[0m \u001b[32m━━━━━━━━━━━━━━━━━━━━\u001b[0m\u001b[37m\u001b[0m \u001b[1m175s\u001b[0m 90ms/step - accuracy: 0.8979 - loss: 0.3173 - val_accuracy: 0.9431 - val_loss: 0.1893\n",
      "Epoch 10/15\n",
      "\u001b[1m1950/1950\u001b[0m \u001b[32m━━━━━━━━━━━━━━━━━━━━\u001b[0m\u001b[37m\u001b[0m \u001b[1m177s\u001b[0m 91ms/step - accuracy: 0.9146 - loss: 0.2660 - val_accuracy: 0.9408 - val_loss: 0.1926\n",
      "Epoch 11/15\n",
      "\u001b[1m1950/1950\u001b[0m \u001b[32m━━━━━━━━━━━━━━━━━━━━\u001b[0m\u001b[37m\u001b[0m \u001b[1m189s\u001b[0m 97ms/step - accuracy: 0.9253 - loss: 0.2330 - val_accuracy: 0.9446 - val_loss: 0.1781\n",
      "Epoch 12/15\n",
      "\u001b[1m1950/1950\u001b[0m \u001b[32m━━━━━━━━━━━━━━━━━━━━\u001b[0m\u001b[37m\u001b[0m \u001b[1m193s\u001b[0m 99ms/step - accuracy: 0.9305 - loss: 0.2114 - val_accuracy: 0.9454 - val_loss: 0.1809\n",
      "Epoch 13/15\n",
      "\u001b[1m1950/1950\u001b[0m \u001b[32m━━━━━━━━━━━━━━━━━━━━\u001b[0m\u001b[37m\u001b[0m \u001b[1m174s\u001b[0m 89ms/step - accuracy: 0.9349 - loss: 0.1969 - val_accuracy: 0.9478 - val_loss: 0.1754\n",
      "Epoch 14/15\n",
      "\u001b[1m1950/1950\u001b[0m \u001b[32m━━━━━━━━━━━━━━━━━━━━\u001b[0m\u001b[37m\u001b[0m \u001b[1m179s\u001b[0m 92ms/step - accuracy: 0.9380 - loss: 0.1855 - val_accuracy: 0.9428 - val_loss: 0.1866\n",
      "Epoch 15/15\n",
      "\u001b[1m1950/1950\u001b[0m \u001b[32m━━━━━━━━━━━━━━━━━━━━\u001b[0m\u001b[37m\u001b[0m \u001b[1m168s\u001b[0m 86ms/step - accuracy: 0.9404 - loss: 0.1752 - val_accuracy: 0.9485 - val_loss: 0.1788\n"
     ]
    },
    {
     "data": {
      "text/plain": [
       "<keras.src.callbacks.history.History at 0x153c05030>"
      ]
     },
     "execution_count": 38,
     "metadata": {},
     "output_type": "execute_result"
    }
   ],
   "source": [
    "train_images = train_images / 255.0\n",
    "test_images = test_images / 255.0\n",
    "\n",
    "train_labels = train_labels - 1\n",
    "test_labels = test_labels - 1\n",
    "\n",
    "train_images = train_images.reshape(len(train_images), 28, 28, 1)\n",
    "test_images = test_images.reshape(len(test_images), 28, 28, 1)\n",
    "\n",
    "checkpoint = ModelCheckpoint(filepath=\"checkpoints/epoch_{epoch:02d}.keras\", save_weights_only=False, save_freq=\"epoch\")\n",
    "\n",
    "model.fit(train_images, train_labels, epochs=15,\n",
    "          validation_data=(test_images, test_labels), callbacks=[checkpoint], batch_size=64)\n",
    "\n",
    "# Best = 94.620% validation acc"
   ]
  },
  {
   "cell_type": "code",
   "execution_count": null,
   "id": "f74468cd",
   "metadata": {},
   "outputs": [],
   "source": []
  }
 ],
 "metadata": {
  "kernelspec": {
   "display_name": "testenv",
   "language": "python",
   "name": "python3"
  },
  "language_info": {
   "codemirror_mode": {
    "name": "ipython",
    "version": 3
   },
   "file_extension": ".py",
   "mimetype": "text/x-python",
   "name": "python",
   "nbconvert_exporter": "python",
   "pygments_lexer": "ipython3",
   "version": "3.10.18"
  }
 },
 "nbformat": 4,
 "nbformat_minor": 5
}
