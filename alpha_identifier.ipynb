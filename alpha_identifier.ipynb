{
 "cells": [
  {
   "cell_type": "code",
   "execution_count": 44,
   "id": "41cbfac7",
   "metadata": {},
   "outputs": [],
   "source": [
    "import tensorflow as tf\n",
    "from tensorflow.keras import layers, models, regularizers\n",
    "from scipy import io"
   ]
  },
  {
   "cell_type": "code",
   "execution_count": 45,
   "id": "c3a93d18",
   "metadata": {},
   "outputs": [],
   "source": [
    "dataset = io.loadmat('datasets/emnist-letters.mat')\n",
    "# matlab_structs / numpy structured arrays. yay\n",
    "# they have a dtype (structure) and every element adheres to it :)"
   ]
  },
  {
   "cell_type": "code",
   "execution_count": 46,
   "id": "f73fa2a0",
   "metadata": {},
   "outputs": [
    {
     "name": "stdout",
     "output_type": "stream",
     "text": [
      "(124800, 784) (20800, 784) (124800, 1) (20800, 1)\n"
     ]
    }
   ],
   "source": [
    "struct_dataset = dataset['dataset'][0,0]\n",
    "\n",
    "train_images, train_labels = struct_dataset['train'][0,0]['images'], struct_dataset['train'][0,0]['labels']\n",
    "test_images, test_labels = struct_dataset['test'][0,0]['images'], struct_dataset['test'][0,0]['labels']\n",
    "\n",
    "print(train_images.shape, test_images.shape, train_labels.shape, test_labels.shape)"
   ]
  },
  {
   "cell_type": "code",
   "execution_count": null,
   "id": "4dedc0c6",
   "metadata": {},
   "outputs": [],
   "source": []
  }
 ],
 "metadata": {
  "kernelspec": {
   "display_name": "testenv",
   "language": "python",
   "name": "python3"
  },
  "language_info": {
   "codemirror_mode": {
    "name": "ipython",
    "version": 3
   },
   "file_extension": ".py",
   "mimetype": "text/x-python",
   "name": "python",
   "nbconvert_exporter": "python",
   "pygments_lexer": "ipython3",
   "version": "3.10.18"
  }
 },
 "nbformat": 4,
 "nbformat_minor": 5
}
