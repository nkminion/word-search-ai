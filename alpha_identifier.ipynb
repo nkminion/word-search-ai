{
 "cells": [
  {
   "cell_type": "code",
   "execution_count": 24,
   "id": "41cbfac7",
   "metadata": {},
   "outputs": [],
   "source": [
    "import tensorflow as tf\n",
    "from tensorflow.keras import layers, models, regularizers\n",
    "from scipy import io\n",
    "from tensorflow.keras.callbacks import ModelCheckpoint"
   ]
  },
  {
   "cell_type": "code",
   "execution_count": 25,
   "id": "c3a93d18",
   "metadata": {},
   "outputs": [],
   "source": [
    "dataset = io.loadmat('datasets/emnist-letters.mat')\n",
    "# matlab_structs / numpy structured arrays. yay\n",
    "# they have a dtype (structure) and every element adheres to it :)"
   ]
  },
  {
   "cell_type": "code",
   "execution_count": 26,
   "id": "f73fa2a0",
   "metadata": {},
   "outputs": [
    {
     "name": "stdout",
     "output_type": "stream",
     "text": [
      "(124800, 784) (20800, 784) (124800, 1) (20800, 1)\n"
     ]
    }
   ],
   "source": [
    "struct_dataset = dataset['dataset'][0,0]\n",
    "\n",
    "train_images, train_labels = struct_dataset['train'][0,0]['images'], struct_dataset['train'][0,0]['labels']\n",
    "test_images, test_labels = struct_dataset['test'][0,0]['images'], struct_dataset['test'][0,0]['labels']\n",
    "\n",
    "print(train_images.shape, test_images.shape, train_labels.shape, test_labels.shape)"
   ]
  },
  {
   "cell_type": "code",
   "execution_count": 27,
   "id": "4dedc0c6",
   "metadata": {},
   "outputs": [],
   "source": [
    "model = models.Sequential([\n",
    "    layers.Conv2D(32, (3,3), padding=\"same\", use_bias=\"false\", input_shape=(28,28,1)),\n",
    "    layers.BatchNormalization(),\n",
    "    layers.ReLU(),\n",
    "    layers.Conv2D(32, (3,3), padding=\"same\", use_bias=\"false\"),\n",
    "    layers.BatchNormalization(),\n",
    "    layers.ReLU(),\n",
    "    layers.Conv2D(32, (3,3), padding=\"same\", use_bias=\"false\"),\n",
    "    layers.BatchNormalization(),\n",
    "    layers.ReLU(),\n",
    "    layers.MaxPooling2D((2,2)),\n",
    "    \n",
    "    layers.Conv2D(64, (3,3), padding=\"same\", use_bias=\"false\"),\n",
    "    layers.BatchNormalization(),\n",
    "    layers.ReLU(),\n",
    "    layers.Conv2D(64, (3,3), padding=\"same\", use_bias=\"false\"),\n",
    "    layers.BatchNormalization(),\n",
    "    layers.ReLU(),\n",
    "    layers.Conv2D(64, (3,3), padding=\"same\", use_bias=\"false\"),\n",
    "    layers.BatchNormalization(),\n",
    "    layers.ReLU(),\n",
    "    layers.MaxPooling2D((2,2)),\n",
    "\n",
    "    layers.Flatten(),\n",
    "    layers.Dense(64, activation=\"relu\"),\n",
    "    layers.Dropout(0.2),\n",
    "    layers.Dense(32, activation=\"relu\"),\n",
    "    layers.Dense(26, activation=\"softmax\")\n",
    "])\n",
    "\n",
    "model.compile(optimizer=\"adam\", loss='sparse_categorical_crossentropy', metrics=['accuracy'])"
   ]
  },
  {
   "cell_type": "code",
   "execution_count": null,
   "id": "b9704f23",
   "metadata": {},
   "outputs": [
    {
     "name": "stdout",
     "output_type": "stream",
     "text": [
      "Epoch 1/15\n",
      "\u001b[1m975/975\u001b[0m \u001b[32m━━━━━━━━━━━━━━━━━━━━\u001b[0m\u001b[37m\u001b[0m \u001b[1m170s\u001b[0m 173ms/step - accuracy: 0.7780 - loss: 0.7139 - val_accuracy: 0.9204 - val_loss: 0.2471\n",
      "Epoch 2/15\n",
      "\u001b[1m975/975\u001b[0m \u001b[32m━━━━━━━━━━━━━━━━━━━━\u001b[0m\u001b[37m\u001b[0m \u001b[1m169s\u001b[0m 173ms/step - accuracy: 0.8942 - loss: 0.3282 - val_accuracy: 0.9206 - val_loss: 0.2526\n",
      "Epoch 3/15\n",
      "\u001b[1m975/975\u001b[0m \u001b[32m━━━━━━━━━━━━━━━━━━━━\u001b[0m\u001b[37m\u001b[0m \u001b[1m176s\u001b[0m 181ms/step - accuracy: 0.9087 - loss: 0.2793 - val_accuracy: 0.9305 - val_loss: 0.2211\n",
      "Epoch 4/15\n",
      "\u001b[1m975/975\u001b[0m \u001b[32m━━━━━━━━━━━━━━━━━━━━\u001b[0m\u001b[37m\u001b[0m \u001b[1m161s\u001b[0m 165ms/step - accuracy: 0.9179 - loss: 0.2511 - val_accuracy: 0.9376 - val_loss: 0.1959\n",
      "Epoch 5/15\n",
      "\u001b[1m975/975\u001b[0m \u001b[32m━━━━━━━━━━━━━━━━━━━━\u001b[0m\u001b[37m\u001b[0m \u001b[1m160s\u001b[0m 164ms/step - accuracy: 0.9241 - loss: 0.2317 - val_accuracy: 0.9357 - val_loss: 0.1985\n",
      "Epoch 6/15\n",
      "\u001b[1m975/975\u001b[0m \u001b[32m━━━━━━━━━━━━━━━━━━━━\u001b[0m\u001b[37m\u001b[0m \u001b[1m159s\u001b[0m 163ms/step - accuracy: 0.9283 - loss: 0.2189 - val_accuracy: 0.9391 - val_loss: 0.1951\n",
      "Epoch 7/15\n",
      "\u001b[1m975/975\u001b[0m \u001b[32m━━━━━━━━━━━━━━━━━━━━\u001b[0m\u001b[37m\u001b[0m \u001b[1m158s\u001b[0m 162ms/step - accuracy: 0.9316 - loss: 0.2066 - val_accuracy: 0.9424 - val_loss: 0.1836\n",
      "Epoch 8/15\n",
      "\u001b[1m975/975\u001b[0m \u001b[32m━━━━━━━━━━━━━━━━━━━━\u001b[0m\u001b[37m\u001b[0m \u001b[1m159s\u001b[0m 163ms/step - accuracy: 0.9340 - loss: 0.1972 - val_accuracy: 0.9434 - val_loss: 0.1764\n",
      "Epoch 9/15\n",
      "\u001b[1m975/975\u001b[0m \u001b[32m━━━━━━━━━━━━━━━━━━━━\u001b[0m\u001b[37m\u001b[0m \u001b[1m163s\u001b[0m 167ms/step - accuracy: 0.9381 - loss: 0.1870 - val_accuracy: 0.9406 - val_loss: 0.1893\n",
      "Epoch 10/15\n",
      "\u001b[1m975/975\u001b[0m \u001b[32m━━━━━━━━━━━━━━━━━━━━\u001b[0m\u001b[37m\u001b[0m \u001b[1m162s\u001b[0m 166ms/step - accuracy: 0.9394 - loss: 0.1787 - val_accuracy: 0.9440 - val_loss: 0.1740\n",
      "Epoch 11/15\n",
      "\u001b[1m975/975\u001b[0m \u001b[32m━━━━━━━━━━━━━━━━━━━━\u001b[0m\u001b[37m\u001b[0m \u001b[1m161s\u001b[0m 165ms/step - accuracy: 0.9410 - loss: 0.1729 - val_accuracy: 0.9445 - val_loss: 0.1690\n",
      "Epoch 12/15\n",
      "\u001b[1m975/975\u001b[0m \u001b[32m━━━━━━━━━━━━━━━━━━━━\u001b[0m\u001b[37m\u001b[0m \u001b[1m162s\u001b[0m 166ms/step - accuracy: 0.9444 - loss: 0.1638 - val_accuracy: 0.9418 - val_loss: 0.1788\n",
      "Epoch 13/15\n",
      "\u001b[1m975/975\u001b[0m \u001b[32m━━━━━━━━━━━━━━━━━━━━\u001b[0m\u001b[37m\u001b[0m \u001b[1m159s\u001b[0m 163ms/step - accuracy: 0.9437 - loss: 0.1613 - val_accuracy: 0.9428 - val_loss: 0.1881\n",
      "Epoch 14/15\n",
      "\u001b[1m975/975\u001b[0m \u001b[32m━━━━━━━━━━━━━━━━━━━━\u001b[0m\u001b[37m\u001b[0m \u001b[1m163s\u001b[0m 167ms/step - accuracy: 0.9471 - loss: 0.1529 - val_accuracy: 0.9462 - val_loss: 0.1670\n",
      "Epoch 15/15\n",
      "\u001b[1m975/975\u001b[0m \u001b[32m━━━━━━━━━━━━━━━━━━━━\u001b[0m\u001b[37m\u001b[0m \u001b[1m161s\u001b[0m 165ms/step - accuracy: 0.9483 - loss: 0.1477 - val_accuracy: 0.9424 - val_loss: 0.1799\n"
     ]
    },
    {
     "data": {
      "text/plain": [
       "<keras.src.callbacks.history.History at 0x38a195d80>"
      ]
     },
     "execution_count": 28,
     "metadata": {},
     "output_type": "execute_result"
    }
   ],
   "source": [
    "train_images = train_images / 255.0\n",
    "test_images = test_images / 255.0\n",
    "\n",
    "train_labels = train_labels - 1\n",
    "test_labels = test_labels - 1\n",
    "\n",
    "train_images = train_images.reshape(len(train_images), 28, 28, 1)\n",
    "test_images = test_images.reshape(len(test_images), 28, 28, 1)\n",
    "\n",
    "checkpoint = ModelCheckpoint(filepath=\"checkpoints/epoch_{epoch:02d}.keras\", save_weights_only=False, save_freq=\"epoch\")\n",
    "\n",
    "model.fit(train_images, train_labels, epochs=15,\n",
    "          validation_data=(test_images, test_labels), callbacks=[checkpoint], batch_size=128)\n",
    "\n",
    "# Best = 94.62% validation acc"
   ]
  },
  {
   "cell_type": "code",
   "execution_count": null,
   "id": "f74468cd",
   "metadata": {},
   "outputs": [],
   "source": []
  }
 ],
 "metadata": {
  "kernelspec": {
   "display_name": "testenv",
   "language": "python",
   "name": "python3"
  },
  "language_info": {
   "codemirror_mode": {
    "name": "ipython",
    "version": 3
   },
   "file_extension": ".py",
   "mimetype": "text/x-python",
   "name": "python",
   "nbconvert_exporter": "python",
   "pygments_lexer": "ipython3",
   "version": "3.10.18"
  }
 },
 "nbformat": 4,
 "nbformat_minor": 5
}
