{
 "cells": [
  {
   "cell_type": "code",
   "execution_count": 3,
   "id": "467e9659",
   "metadata": {},
   "outputs": [],
   "source": [
    "from PIL import ImageFont,ImageDraw,Image\n",
    "import numpy as np\n",
    "import os"
   ]
  },
  {
   "cell_type": "code",
   "execution_count": 4,
   "id": "d2b7b194",
   "metadata": {},
   "outputs": [
    {
     "name": "stdout",
     "output_type": "stream",
     "text": [
      "Images have been saved to Dataset\n"
     ]
    }
   ],
   "source": [
    "#Make Custom Dataset\n",
    "\n",
    "FontPath = 'CustomFonts'\n",
    "ImgPath = 'Dataset'\n",
    "Images = []\n",
    "\n",
    "for Font in os.listdir(FontPath):\n",
    "\tif Font.endswith('ttf'):\n",
    "\t\ttry:\n",
    "\t\t\tfont = ImageFont.truetype(os.path.join(FontPath,Font),24)\n",
    "\t\t\tfor i in range(26):\n",
    "\t\t\t\tImgDir = os.path.join(ImgPath,chr(ord('A')+i))\n",
    "\t\t\t\tos.makedirs(ImgDir,exist_ok=True)\n",
    "\t\t\t\timg = Image.new('L',(28,28),color=0)\n",
    "\t\t\t\tdraw = ImageDraw.Draw(img)\n",
    "\t\t\t\tdraw.text((14,14),str(chr(ord('A') + i)),font=font,fill=255,anchor='mm')\n",
    "\t\t\t\timg.save(os.path.join(ImgDir,f\"{Font}.png\"))\n",
    "\t\texcept (OSError,IOError):\n",
    "\t\t\tprint(f\"Could not load font {Font}!\")\n",
    "\n",
    "print(f\"Images have been saved to {ImgPath}\")"
   ]
  }
 ],
 "metadata": {
  "kernelspec": {
   "display_name": "venv",
   "language": "python",
   "name": "python3"
  },
  "language_info": {
   "codemirror_mode": {
    "name": "ipython",
    "version": 3
   },
   "file_extension": ".py",
   "mimetype": "text/x-python",
   "name": "python",
   "nbconvert_exporter": "python",
   "pygments_lexer": "ipython3",
   "version": "3.10.18"
  }
 },
 "nbformat": 4,
 "nbformat_minor": 5
}
